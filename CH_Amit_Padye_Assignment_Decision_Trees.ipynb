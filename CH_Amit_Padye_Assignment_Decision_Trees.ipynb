{
  "nbformat": 4,
  "nbformat_minor": 0,
  "metadata": {
    "colab": {
      "name": "CH Amit  Padye Assignment - Decision Trees.ipynb",
      "provenance": [],
      "collapsed_sections": [],
      "include_colab_link": true
    },
    "kernelspec": {
      "name": "python3",
      "display_name": "Python 3"
    }
  },
  "cells": [
    {
      "cell_type": "markdown",
      "metadata": {
        "id": "view-in-github",
        "colab_type": "text"
      },
      "source": [
        "<a href=\"https://colab.research.google.com/github/Amit-Padye/Decision-tree-/blob/main/CH_Amit_Padye_Assignment_Decision_Trees.ipynb\" target=\"_parent\"><img src=\"https://colab.research.google.com/assets/colab-badge.svg\" alt=\"Open In Colab\"/></a>"
      ]
    },
    {
      "cell_type": "markdown",
      "metadata": {
        "id": "Oq9OIkpjU3hr"
      },
      "source": [
        "## Decision trees are generally used for classification problems. But it can also be used for regression problems by grouping the dependent variable (continuous) into buckets. <code>DecisionTreeRegressor()</code> from the scikit-learn library helps us to use decision trees for regression problems. The implementation is similar to <code>DecisionTreeClassifier()</code>.\n",
        "\n",
        "# <b> The Boston Housing Dataset is a derived from information collected by the U.S. Census Service concerning housing in the area of Boston MA. The following describes the dataset columns:\n",
        "\n",
        "* CRIM - per capita crime rate by town\n",
        "* ZN - proportion of residential land zoned for lots over 25,000 sq.ft.\n",
        "* INDUS - proportion of non-retail business acres per town.\n",
        "* CHAS - Charles River dummy variable (1 if tract bounds river; 0 otherwise)\n",
        "* NOX - nitric oxides concentration (parts per 10 million)\n",
        "* RM - average number of rooms per dwelling\n",
        "* AGE - proportion of owner-occupied units built prior to 1940\n",
        "* DIS - weighted distances to five Boston employment centres\n",
        "* RAD - index of accessibility to radial highways\n",
        "* TAX - full-value property-tax rate per \\$10,000\n",
        "* PTRATIO - pupil-teacher ratio by town\n",
        "* B - 1000(Bk - 0.63)^2 where Bk is the proportion of blacks by town\n",
        "* LSTAT - % lower status of the population\n",
        "* MEDV - Median value of owner-occupied homes in $1000's\n",
        "\n",
        "## <b>Here MEDV is the continuous dependent variable.\n",
        "\n",
        "## Build a predictor for MEDV using decision tree algorithm.\n",
        "\n",
        "## Measure the performance of the model using regression evaluation metrics."
      ]
    },
    {
      "cell_type": "code",
      "metadata": {
        "id": "OGbJLLSG6vzh",
        "colab": {
          "base_uri": "https://localhost:8080/"
        },
        "outputId": "b218f777-fda0-4ef1-c689-5b1018a2d254"
      },
      "source": [
        "from google.colab import drive\n",
        "drive.mount('/content/drive')"
      ],
      "execution_count": null,
      "outputs": [
        {
          "output_type": "stream",
          "text": [
            "Mounted at /content/drive\n"
          ],
          "name": "stdout"
        }
      ]
    },
    {
      "cell_type": "code",
      "metadata": {
        "id": "p0gkUooyR6Ix"
      },
      "source": [
        "import pandas as pd\n",
        "from sklearn.model_selection import train_test_split\n",
        "from sklearn.metrics import mean_squared_error"
      ],
      "execution_count": null,
      "outputs": []
    },
    {
      "cell_type": "code",
      "metadata": {
        "id": "K6PxUsa97OUd"
      },
      "source": [
        "file_path='/content/drive/MyDrive/housing.csv'\n",
        "sep = '\\s+'  \n",
        "df=pd.read_csv(file_path, header=None, sep = '\\s+')\n",
        "col=['CRIM','ZN','INDUS','CHAS','NOX','RM','AGE','DIS','RAD','TAX','PTRATIO','B','LSTAT','MEDV']"
      ],
      "execution_count": null,
      "outputs": []
    },
    {
      "cell_type": "code",
      "metadata": {
        "id": "oMnQisDy8FIp"
      },
      "source": [
        "df.columns=col"
      ],
      "execution_count": null,
      "outputs": []
    },
    {
      "cell_type": "code",
      "metadata": {
        "colab": {
          "base_uri": "https://localhost:8080/",
          "height": 205
        },
        "id": "mv0o_LlR8KBH",
        "outputId": "fb808e52-ca44-4845-cfae-0a715506a3f2"
      },
      "source": [
        "df.head()"
      ],
      "execution_count": null,
      "outputs": [
        {
          "output_type": "execute_result",
          "data": {
            "text/html": [
              "<div>\n",
              "<style scoped>\n",
              "    .dataframe tbody tr th:only-of-type {\n",
              "        vertical-align: middle;\n",
              "    }\n",
              "\n",
              "    .dataframe tbody tr th {\n",
              "        vertical-align: top;\n",
              "    }\n",
              "\n",
              "    .dataframe thead th {\n",
              "        text-align: right;\n",
              "    }\n",
              "</style>\n",
              "<table border=\"1\" class=\"dataframe\">\n",
              "  <thead>\n",
              "    <tr style=\"text-align: right;\">\n",
              "      <th></th>\n",
              "      <th>CRIM</th>\n",
              "      <th>ZN</th>\n",
              "      <th>INDUS</th>\n",
              "      <th>CHAS</th>\n",
              "      <th>NOX</th>\n",
              "      <th>RM</th>\n",
              "      <th>AGE</th>\n",
              "      <th>DIS</th>\n",
              "      <th>RAD</th>\n",
              "      <th>TAX</th>\n",
              "      <th>PTRATIO</th>\n",
              "      <th>B</th>\n",
              "      <th>LSTAT</th>\n",
              "      <th>MEDV</th>\n",
              "    </tr>\n",
              "  </thead>\n",
              "  <tbody>\n",
              "    <tr>\n",
              "      <th>0</th>\n",
              "      <td>0.00632</td>\n",
              "      <td>18.0</td>\n",
              "      <td>2.31</td>\n",
              "      <td>0</td>\n",
              "      <td>0.538</td>\n",
              "      <td>6.575</td>\n",
              "      <td>65.2</td>\n",
              "      <td>4.0900</td>\n",
              "      <td>1</td>\n",
              "      <td>296.0</td>\n",
              "      <td>15.3</td>\n",
              "      <td>396.90</td>\n",
              "      <td>4.98</td>\n",
              "      <td>24.0</td>\n",
              "    </tr>\n",
              "    <tr>\n",
              "      <th>1</th>\n",
              "      <td>0.02731</td>\n",
              "      <td>0.0</td>\n",
              "      <td>7.07</td>\n",
              "      <td>0</td>\n",
              "      <td>0.469</td>\n",
              "      <td>6.421</td>\n",
              "      <td>78.9</td>\n",
              "      <td>4.9671</td>\n",
              "      <td>2</td>\n",
              "      <td>242.0</td>\n",
              "      <td>17.8</td>\n",
              "      <td>396.90</td>\n",
              "      <td>9.14</td>\n",
              "      <td>21.6</td>\n",
              "    </tr>\n",
              "    <tr>\n",
              "      <th>2</th>\n",
              "      <td>0.02729</td>\n",
              "      <td>0.0</td>\n",
              "      <td>7.07</td>\n",
              "      <td>0</td>\n",
              "      <td>0.469</td>\n",
              "      <td>7.185</td>\n",
              "      <td>61.1</td>\n",
              "      <td>4.9671</td>\n",
              "      <td>2</td>\n",
              "      <td>242.0</td>\n",
              "      <td>17.8</td>\n",
              "      <td>392.83</td>\n",
              "      <td>4.03</td>\n",
              "      <td>34.7</td>\n",
              "    </tr>\n",
              "    <tr>\n",
              "      <th>3</th>\n",
              "      <td>0.03237</td>\n",
              "      <td>0.0</td>\n",
              "      <td>2.18</td>\n",
              "      <td>0</td>\n",
              "      <td>0.458</td>\n",
              "      <td>6.998</td>\n",
              "      <td>45.8</td>\n",
              "      <td>6.0622</td>\n",
              "      <td>3</td>\n",
              "      <td>222.0</td>\n",
              "      <td>18.7</td>\n",
              "      <td>394.63</td>\n",
              "      <td>2.94</td>\n",
              "      <td>33.4</td>\n",
              "    </tr>\n",
              "    <tr>\n",
              "      <th>4</th>\n",
              "      <td>0.06905</td>\n",
              "      <td>0.0</td>\n",
              "      <td>2.18</td>\n",
              "      <td>0</td>\n",
              "      <td>0.458</td>\n",
              "      <td>7.147</td>\n",
              "      <td>54.2</td>\n",
              "      <td>6.0622</td>\n",
              "      <td>3</td>\n",
              "      <td>222.0</td>\n",
              "      <td>18.7</td>\n",
              "      <td>396.90</td>\n",
              "      <td>5.33</td>\n",
              "      <td>36.2</td>\n",
              "    </tr>\n",
              "  </tbody>\n",
              "</table>\n",
              "</div>"
            ],
            "text/plain": [
              "      CRIM    ZN  INDUS  CHAS    NOX  ...    TAX  PTRATIO       B  LSTAT  MEDV\n",
              "0  0.00632  18.0   2.31     0  0.538  ...  296.0     15.3  396.90   4.98  24.0\n",
              "1  0.02731   0.0   7.07     0  0.469  ...  242.0     17.8  396.90   9.14  21.6\n",
              "2  0.02729   0.0   7.07     0  0.469  ...  242.0     17.8  392.83   4.03  34.7\n",
              "3  0.03237   0.0   2.18     0  0.458  ...  222.0     18.7  394.63   2.94  33.4\n",
              "4  0.06905   0.0   2.18     0  0.458  ...  222.0     18.7  396.90   5.33  36.2\n",
              "\n",
              "[5 rows x 14 columns]"
            ]
          },
          "metadata": {
            "tags": []
          },
          "execution_count": 6
        }
      ]
    },
    {
      "cell_type": "code",
      "metadata": {
        "colab": {
          "base_uri": "https://localhost:8080/"
        },
        "id": "n75s6WFB-GSX",
        "outputId": "4c902d5e-39a4-41ab-b32c-283216e1bc22"
      },
      "source": [
        "df.info()"
      ],
      "execution_count": null,
      "outputs": [
        {
          "output_type": "stream",
          "text": [
            "<class 'pandas.core.frame.DataFrame'>\n",
            "RangeIndex: 506 entries, 0 to 505\n",
            "Data columns (total 14 columns):\n",
            " #   Column   Non-Null Count  Dtype  \n",
            "---  ------   --------------  -----  \n",
            " 0   CRIM     506 non-null    float64\n",
            " 1   ZN       506 non-null    float64\n",
            " 2   INDUS    506 non-null    float64\n",
            " 3   CHAS     506 non-null    int64  \n",
            " 4   NOX      506 non-null    float64\n",
            " 5   RM       506 non-null    float64\n",
            " 6   AGE      506 non-null    float64\n",
            " 7   DIS      506 non-null    float64\n",
            " 8   RAD      506 non-null    int64  \n",
            " 9   TAX      506 non-null    float64\n",
            " 10  PTRATIO  506 non-null    float64\n",
            " 11  B        506 non-null    float64\n",
            " 12  LSTAT    506 non-null    float64\n",
            " 13  MEDV     506 non-null    float64\n",
            "dtypes: float64(12), int64(2)\n",
            "memory usage: 55.5 KB\n"
          ],
          "name": "stdout"
        }
      ]
    },
    {
      "cell_type": "code",
      "metadata": {
        "id": "TtmoyqVH-5RP"
      },
      "source": [
        "x=df.drop('MEDV',axis=1)\n",
        "y=df['MEDV']\n",
        "\n",
        "      "
      ],
      "execution_count": null,
      "outputs": []
    },
    {
      "cell_type": "code",
      "metadata": {
        "colab": {
          "base_uri": "https://localhost:8080/",
          "height": 205
        },
        "id": "CvWid0FEAO3I",
        "outputId": "f5d9f74c-9717-488f-879d-f5b5e3624121"
      },
      "source": [
        "x.head()"
      ],
      "execution_count": null,
      "outputs": [
        {
          "output_type": "execute_result",
          "data": {
            "text/html": [
              "<div>\n",
              "<style scoped>\n",
              "    .dataframe tbody tr th:only-of-type {\n",
              "        vertical-align: middle;\n",
              "    }\n",
              "\n",
              "    .dataframe tbody tr th {\n",
              "        vertical-align: top;\n",
              "    }\n",
              "\n",
              "    .dataframe thead th {\n",
              "        text-align: right;\n",
              "    }\n",
              "</style>\n",
              "<table border=\"1\" class=\"dataframe\">\n",
              "  <thead>\n",
              "    <tr style=\"text-align: right;\">\n",
              "      <th></th>\n",
              "      <th>CRIM</th>\n",
              "      <th>ZN</th>\n",
              "      <th>INDUS</th>\n",
              "      <th>CHAS</th>\n",
              "      <th>NOX</th>\n",
              "      <th>RM</th>\n",
              "      <th>AGE</th>\n",
              "      <th>DIS</th>\n",
              "      <th>RAD</th>\n",
              "      <th>TAX</th>\n",
              "      <th>PTRATIO</th>\n",
              "      <th>B</th>\n",
              "      <th>LSTAT</th>\n",
              "    </tr>\n",
              "  </thead>\n",
              "  <tbody>\n",
              "    <tr>\n",
              "      <th>0</th>\n",
              "      <td>0.00632</td>\n",
              "      <td>18.0</td>\n",
              "      <td>2.31</td>\n",
              "      <td>0</td>\n",
              "      <td>0.538</td>\n",
              "      <td>6.575</td>\n",
              "      <td>65.2</td>\n",
              "      <td>4.0900</td>\n",
              "      <td>1</td>\n",
              "      <td>296.0</td>\n",
              "      <td>15.3</td>\n",
              "      <td>396.90</td>\n",
              "      <td>4.98</td>\n",
              "    </tr>\n",
              "    <tr>\n",
              "      <th>1</th>\n",
              "      <td>0.02731</td>\n",
              "      <td>0.0</td>\n",
              "      <td>7.07</td>\n",
              "      <td>0</td>\n",
              "      <td>0.469</td>\n",
              "      <td>6.421</td>\n",
              "      <td>78.9</td>\n",
              "      <td>4.9671</td>\n",
              "      <td>2</td>\n",
              "      <td>242.0</td>\n",
              "      <td>17.8</td>\n",
              "      <td>396.90</td>\n",
              "      <td>9.14</td>\n",
              "    </tr>\n",
              "    <tr>\n",
              "      <th>2</th>\n",
              "      <td>0.02729</td>\n",
              "      <td>0.0</td>\n",
              "      <td>7.07</td>\n",
              "      <td>0</td>\n",
              "      <td>0.469</td>\n",
              "      <td>7.185</td>\n",
              "      <td>61.1</td>\n",
              "      <td>4.9671</td>\n",
              "      <td>2</td>\n",
              "      <td>242.0</td>\n",
              "      <td>17.8</td>\n",
              "      <td>392.83</td>\n",
              "      <td>4.03</td>\n",
              "    </tr>\n",
              "    <tr>\n",
              "      <th>3</th>\n",
              "      <td>0.03237</td>\n",
              "      <td>0.0</td>\n",
              "      <td>2.18</td>\n",
              "      <td>0</td>\n",
              "      <td>0.458</td>\n",
              "      <td>6.998</td>\n",
              "      <td>45.8</td>\n",
              "      <td>6.0622</td>\n",
              "      <td>3</td>\n",
              "      <td>222.0</td>\n",
              "      <td>18.7</td>\n",
              "      <td>394.63</td>\n",
              "      <td>2.94</td>\n",
              "    </tr>\n",
              "    <tr>\n",
              "      <th>4</th>\n",
              "      <td>0.06905</td>\n",
              "      <td>0.0</td>\n",
              "      <td>2.18</td>\n",
              "      <td>0</td>\n",
              "      <td>0.458</td>\n",
              "      <td>7.147</td>\n",
              "      <td>54.2</td>\n",
              "      <td>6.0622</td>\n",
              "      <td>3</td>\n",
              "      <td>222.0</td>\n",
              "      <td>18.7</td>\n",
              "      <td>396.90</td>\n",
              "      <td>5.33</td>\n",
              "    </tr>\n",
              "  </tbody>\n",
              "</table>\n",
              "</div>"
            ],
            "text/plain": [
              "      CRIM    ZN  INDUS  CHAS    NOX  ...  RAD    TAX  PTRATIO       B  LSTAT\n",
              "0  0.00632  18.0   2.31     0  0.538  ...    1  296.0     15.3  396.90   4.98\n",
              "1  0.02731   0.0   7.07     0  0.469  ...    2  242.0     17.8  396.90   9.14\n",
              "2  0.02729   0.0   7.07     0  0.469  ...    2  242.0     17.8  392.83   4.03\n",
              "3  0.03237   0.0   2.18     0  0.458  ...    3  222.0     18.7  394.63   2.94\n",
              "4  0.06905   0.0   2.18     0  0.458  ...    3  222.0     18.7  396.90   5.33\n",
              "\n",
              "[5 rows x 13 columns]"
            ]
          },
          "metadata": {
            "tags": []
          },
          "execution_count": 12
        }
      ]
    },
    {
      "cell_type": "code",
      "metadata": {
        "colab": {
          "base_uri": "https://localhost:8080/"
        },
        "id": "vWrnNU5jAShI",
        "outputId": "d5f7d194-aa04-48ab-b5c0-d18ba9afe08a"
      },
      "source": [
        "y.head()"
      ],
      "execution_count": null,
      "outputs": [
        {
          "output_type": "execute_result",
          "data": {
            "text/plain": [
              "0    24.0\n",
              "1    21.6\n",
              "2    34.7\n",
              "3    33.4\n",
              "4    36.2\n",
              "Name: MEDV, dtype: float64"
            ]
          },
          "metadata": {
            "tags": []
          },
          "execution_count": 13
        }
      ]
    },
    {
      "cell_type": "code",
      "metadata": {
        "id": "cM9f6aeO_-LB"
      },
      "source": [
        "x_train, x_test, y_train, y_test = train_test_split(x, y, test_size=0.2, random_state=51)"
      ],
      "execution_count": null,
      "outputs": []
    },
    {
      "cell_type": "code",
      "metadata": {
        "colab": {
          "base_uri": "https://localhost:8080/"
        },
        "id": "YHGglShL_-Gd",
        "outputId": "dbeb13a9-fbb8-4ad1-ba24-5cc74f5bec1a"
      },
      "source": [
        "\n",
        "from sklearn.tree import DecisionTreeRegressor \n",
        "  \n",
        "# create a regressor object\n",
        "regressor = DecisionTreeRegressor(max_depth=3,criterion='mse', max_leaf_nodes=10, random_state=0) \n",
        "  \n",
        "# fit the regressor \n",
        "regressor.fit(x_train, y_train)"
      ],
      "execution_count": null,
      "outputs": [
        {
          "output_type": "execute_result",
          "data": {
            "text/plain": [
              "DecisionTreeRegressor(ccp_alpha=0.0, criterion='mse', max_depth=3,\n",
              "                      max_features=None, max_leaf_nodes=10,\n",
              "                      min_impurity_decrease=0.0, min_impurity_split=None,\n",
              "                      min_samples_leaf=1, min_samples_split=2,\n",
              "                      min_weight_fraction_leaf=0.0, presort='deprecated',\n",
              "                      random_state=0, splitter='best')"
            ]
          },
          "metadata": {
            "tags": []
          },
          "execution_count": 38
        }
      ]
    },
    {
      "cell_type": "code",
      "metadata": {
        "id": "8YZJ46p1_-Cl"
      },
      "source": [
        "y_pred = regressor.predict(x_test)\n",
        "  "
      ],
      "execution_count": null,
      "outputs": []
    },
    {
      "cell_type": "code",
      "metadata": {
        "id": "NzXQAbhrDIxm"
      },
      "source": [
        "\n",
        "y_pred_train=regressor.predict(x_train)\n"
      ],
      "execution_count": null,
      "outputs": []
    },
    {
      "cell_type": "code",
      "metadata": {
        "colab": {
          "base_uri": "https://localhost:8080/"
        },
        "id": "Q-wYxQCDDUDr",
        "outputId": "d680ea29-011e-4809-a7ac-0534257084fb"
      },
      "source": [
        "from sklearn.metrics import r2_score\n",
        "test_r2=r2_score(y_test,y_pred)\n",
        "train_r2=r2_score(y_train,y_pred_train)\n",
        "test_r2,train_r2"
      ],
      "execution_count": null,
      "outputs": [
        {
          "output_type": "execute_result",
          "data": {
            "text/plain": [
              "(0.7653961141816885, 0.8240225106760599)"
            ]
          },
          "metadata": {
            "tags": []
          },
          "execution_count": 41
        }
      ]
    },
    {
      "cell_type": "code",
      "metadata": {
        "id": "oGTtnRxYIBnN"
      },
      "source": [
        "p=x_train.shape[1]\n",
        "n=x_train.shape[0]"
      ],
      "execution_count": null,
      "outputs": []
    },
    {
      "cell_type": "code",
      "metadata": {
        "colab": {
          "base_uri": "https://localhost:8080/"
        },
        "id": "zGC7B6G3IBfF",
        "outputId": "6d40e739-0fc2-419f-b00c-f8c2e4203da8"
      },
      "source": [
        "adjusted_r2=1-(1-train_r2)*(n-1)/(n-p-1)\n",
        "adjusted_r2"
      ],
      "execution_count": null,
      "outputs": [
        {
          "output_type": "execute_result",
          "data": {
            "text/plain": [
              "0.8181565943652619"
            ]
          },
          "metadata": {
            "tags": []
          },
          "execution_count": 45
        }
      ]
    },
    {
      "cell_type": "code",
      "metadata": {
        "id": "C4fMVH6YIBXM"
      },
      "source": [
        ""
      ],
      "execution_count": null,
      "outputs": []
    },
    {
      "cell_type": "code",
      "metadata": {
        "id": "iiBVYIJZIBSO"
      },
      "source": [
        ""
      ],
      "execution_count": null,
      "outputs": []
    },
    {
      "cell_type": "code",
      "metadata": {
        "id": "e81B1KcUE2ve"
      },
      "source": [
        "from sklearn.tree import  export_graphviz\n",
        "from sklearn import tree\n",
        "from IPython.display import SVG\n",
        "from graphviz import Source\n",
        "from IPython.display import display"
      ],
      "execution_count": null,
      "outputs": []
    },
    {
      "cell_type": "code",
      "metadata": {
        "colab": {
          "base_uri": "https://localhost:8080/",
          "height": 538
        },
        "id": "_9Cxeecp_9vP",
        "outputId": "0f8839dc-d9e2-483f-d96f-44103a6fd013"
      },
      "source": [
        "graph = Source(tree.export_graphviz(regressor, out_file=None\n",
        "   , feature_names=x_train.columns\n",
        "   , filled = True))\n",
        "display(SVG(graph.pipe(format='svg')))"
      ],
      "execution_count": null,
      "outputs": [
        {
          "output_type": "display_data",
          "data": {
            "text/plain": [
              "<IPython.core.display.SVG object>"
            ],
            "image/svg+xml": "<svg height=\"373pt\" viewBox=\"0.00 0.00 952.00 373.00\" width=\"952pt\" xmlns=\"http://www.w3.org/2000/svg\" xmlns:xlink=\"http://www.w3.org/1999/xlink\">\n<g class=\"graph\" id=\"graph0\" transform=\"scale(1 1) rotate(0) translate(4 369)\">\n<title>Tree</title>\n<polygon fill=\"#ffffff\" points=\"-4,4 -4,-369 948,-369 948,4 -4,4\" stroke=\"transparent\"/>\n<!-- 0 -->\n<g class=\"node\" id=\"node1\">\n<title>0</title>\n<polygon fill=\"#f7d6bf\" points=\"529,-365 425,-365 425,-297 529,-297 529,-365\" stroke=\"#000000\"/>\n<text fill=\"#000000\" font-family=\"Times,serif\" font-size=\"14.00\" text-anchor=\"middle\" x=\"477\" y=\"-349.8\">RM &lt;= 6.838</text>\n<text fill=\"#000000\" font-family=\"Times,serif\" font-size=\"14.00\" text-anchor=\"middle\" x=\"477\" y=\"-334.8\">mse = 81.15</text>\n<text fill=\"#000000\" font-family=\"Times,serif\" font-size=\"14.00\" text-anchor=\"middle\" x=\"477\" y=\"-319.8\">samples = 404</text>\n<text fill=\"#000000\" font-family=\"Times,serif\" font-size=\"14.00\" text-anchor=\"middle\" x=\"477\" y=\"-304.8\">value = 22.361</text>\n</g>\n<!-- 1 -->\n<g class=\"node\" id=\"node2\">\n<title>1</title>\n<polygon fill=\"#f9e0ce\" points=\"410,-261 300,-261 300,-193 410,-193 410,-261\" stroke=\"#000000\"/>\n<text fill=\"#000000\" font-family=\"Times,serif\" font-size=\"14.00\" text-anchor=\"middle\" x=\"355\" y=\"-245.8\">LSTAT &lt;= 15.0</text>\n<text fill=\"#000000\" font-family=\"Times,serif\" font-size=\"14.00\" text-anchor=\"middle\" x=\"355\" y=\"-230.8\">mse = 37.658</text>\n<text fill=\"#000000\" font-family=\"Times,serif\" font-size=\"14.00\" text-anchor=\"middle\" x=\"355\" y=\"-215.8\">samples = 337</text>\n<text fill=\"#000000\" font-family=\"Times,serif\" font-size=\"14.00\" text-anchor=\"middle\" x=\"355\" y=\"-200.8\">value = 19.617</text>\n</g>\n<!-- 0&#45;&gt;1 -->\n<g class=\"edge\" id=\"edge1\">\n<title>0-&gt;1</title>\n<path d=\"M437.0526,-296.9465C426.0988,-287.6088 414.1127,-277.3911 402.768,-267.7203\" fill=\"none\" stroke=\"#000000\"/>\n<polygon fill=\"#000000\" points=\"404.9179,-264.9538 395.0371,-261.13 400.3767,-270.2809 404.9179,-264.9538\" stroke=\"#000000\"/>\n<text fill=\"#000000\" font-family=\"Times,serif\" font-size=\"14.00\" text-anchor=\"middle\" x=\"397.022\" y=\"-282.3511\">True</text>\n</g>\n<!-- 2 -->\n<g class=\"node\" id=\"node9\">\n<title>2</title>\n<polygon fill=\"#eda673\" points=\"639,-261 535,-261 535,-193 639,-193 639,-261\" stroke=\"#000000\"/>\n<text fill=\"#000000\" font-family=\"Times,serif\" font-size=\"14.00\" text-anchor=\"middle\" x=\"587\" y=\"-245.8\">RM &lt;= 7.443</text>\n<text fill=\"#000000\" font-family=\"Times,serif\" font-size=\"14.00\" text-anchor=\"middle\" x=\"587\" y=\"-230.8\">mse = 71.417</text>\n<text fill=\"#000000\" font-family=\"Times,serif\" font-size=\"14.00\" text-anchor=\"middle\" x=\"587\" y=\"-215.8\">samples = 67</text>\n<text fill=\"#000000\" font-family=\"Times,serif\" font-size=\"14.00\" text-anchor=\"middle\" x=\"587\" y=\"-200.8\">value = 36.167</text>\n</g>\n<!-- 0&#45;&gt;2 -->\n<g class=\"edge\" id=\"edge8\">\n<title>0-&gt;2</title>\n<path d=\"M513.0181,-296.9465C522.7046,-287.7884 533.2864,-277.7838 543.3397,-268.2788\" fill=\"none\" stroke=\"#000000\"/>\n<polygon fill=\"#000000\" points=\"546.039,-270.5434 550.901,-261.13 541.2299,-265.4569 546.039,-270.5434\" stroke=\"#000000\"/>\n<text fill=\"#000000\" font-family=\"Times,serif\" font-size=\"14.00\" text-anchor=\"middle\" x=\"550.2003\" y=\"-282.4202\">False</text>\n</g>\n<!-- 3 -->\n<g class=\"node\" id=\"node3\">\n<title>3</title>\n<polygon fill=\"#f6d5bd\" points=\"226,-157 122,-157 122,-89 226,-89 226,-157\" stroke=\"#000000\"/>\n<text fill=\"#000000\" font-family=\"Times,serif\" font-size=\"14.00\" text-anchor=\"middle\" x=\"174\" y=\"-141.8\">DIS &lt;= 1.373</text>\n<text fill=\"#000000\" font-family=\"Times,serif\" font-size=\"14.00\" text-anchor=\"middle\" x=\"174\" y=\"-126.8\">mse = 23.738</text>\n<text fill=\"#000000\" font-family=\"Times,serif\" font-size=\"14.00\" text-anchor=\"middle\" x=\"174\" y=\"-111.8\">samples = 212</text>\n<text fill=\"#000000\" font-family=\"Times,serif\" font-size=\"14.00\" text-anchor=\"middle\" x=\"174\" y=\"-96.8\">value = 22.757</text>\n</g>\n<!-- 1&#45;&gt;3 -->\n<g class=\"edge\" id=\"edge2\">\n<title>1-&gt;3</title>\n<path d=\"M299.7105,-195.2315C279.2429,-183.4711 255.9286,-170.075 234.9832,-158.04\" fill=\"none\" stroke=\"#000000\"/>\n<polygon fill=\"#000000\" points=\"236.5811,-154.9216 226.1668,-152.9743 233.0937,-160.991 236.5811,-154.9216\" stroke=\"#000000\"/>\n</g>\n<!-- 4 -->\n<g class=\"node\" id=\"node6\">\n<title>4</title>\n<polygon fill=\"#fcf3ec\" points=\"407,-157 303,-157 303,-89 407,-89 407,-157\" stroke=\"#000000\"/>\n<text fill=\"#000000\" font-family=\"Times,serif\" font-size=\"14.00\" text-anchor=\"middle\" x=\"355\" y=\"-141.8\">CRIM &lt;= 9.87</text>\n<text fill=\"#000000\" font-family=\"Times,serif\" font-size=\"14.00\" text-anchor=\"middle\" x=\"355\" y=\"-126.8\">mse = 16.171</text>\n<text fill=\"#000000\" font-family=\"Times,serif\" font-size=\"14.00\" text-anchor=\"middle\" x=\"355\" y=\"-111.8\">samples = 125</text>\n<text fill=\"#000000\" font-family=\"Times,serif\" font-size=\"14.00\" text-anchor=\"middle\" x=\"355\" y=\"-96.8\">value = 14.29</text>\n</g>\n<!-- 1&#45;&gt;4 -->\n<g class=\"edge\" id=\"edge5\">\n<title>1-&gt;4</title>\n<path d=\"M355,-192.9465C355,-184.776 355,-175.9318 355,-167.3697\" fill=\"none\" stroke=\"#000000\"/>\n<polygon fill=\"#000000\" points=\"358.5001,-167.13 355,-157.13 351.5001,-167.13 358.5001,-167.13\" stroke=\"#000000\"/>\n</g>\n<!-- 7 -->\n<g class=\"node\" id=\"node4\">\n<title>7</title>\n<polygon fill=\"#e78946\" points=\"104,-53 0,-53 0,0 104,0 104,-53\" stroke=\"#000000\"/>\n<text fill=\"#000000\" font-family=\"Times,serif\" font-size=\"14.00\" text-anchor=\"middle\" x=\"52\" y=\"-37.8\">mse = 91.577</text>\n<text fill=\"#000000\" font-family=\"Times,serif\" font-size=\"14.00\" text-anchor=\"middle\" x=\"52\" y=\"-22.8\">samples = 4</text>\n<text fill=\"#000000\" font-family=\"Times,serif\" font-size=\"14.00\" text-anchor=\"middle\" x=\"52\" y=\"-7.8\">value = 44.475</text>\n</g>\n<!-- 3&#45;&gt;7 -->\n<g class=\"edge\" id=\"edge3\">\n<title>3-&gt;7</title>\n<path d=\"M130.9874,-88.9777C118.9476,-79.4545 105.8812,-69.1191 93.9065,-59.6473\" fill=\"none\" stroke=\"#000000\"/>\n<polygon fill=\"#000000\" points=\"95.8311,-56.7072 85.8167,-53.2485 91.4885,-62.1973 95.8311,-56.7072\" stroke=\"#000000\"/>\n</g>\n<!-- 8 -->\n<g class=\"node\" id=\"node5\">\n<title>8</title>\n<polygon fill=\"#f7d7bf\" points=\"226,-53 122,-53 122,0 226,0 226,-53\" stroke=\"#000000\"/>\n<text fill=\"#000000\" font-family=\"Times,serif\" font-size=\"14.00\" text-anchor=\"middle\" x=\"174\" y=\"-37.8\">mse = 13.188</text>\n<text fill=\"#000000\" font-family=\"Times,serif\" font-size=\"14.00\" text-anchor=\"middle\" x=\"174\" y=\"-22.8\">samples = 208</text>\n<text fill=\"#000000\" font-family=\"Times,serif\" font-size=\"14.00\" text-anchor=\"middle\" x=\"174\" y=\"-7.8\">value = 22.339</text>\n</g>\n<!-- 3&#45;&gt;8 -->\n<g class=\"edge\" id=\"edge4\">\n<title>3-&gt;8</title>\n<path d=\"M174,-88.9777C174,-80.7364 174,-71.887 174,-63.5153\" fill=\"none\" stroke=\"#000000\"/>\n<polygon fill=\"#000000\" points=\"177.5001,-63.2484 174,-53.2485 170.5001,-63.2485 177.5001,-63.2484\" stroke=\"#000000\"/>\n</g>\n<!-- 9 -->\n<g class=\"node\" id=\"node7\">\n<title>9</title>\n<polygon fill=\"#fbede3\" points=\"348,-53 244,-53 244,0 348,0 348,-53\" stroke=\"#000000\"/>\n<text fill=\"#000000\" font-family=\"Times,serif\" font-size=\"14.00\" text-anchor=\"middle\" x=\"296\" y=\"-37.8\">mse = 9.688</text>\n<text fill=\"#000000\" font-family=\"Times,serif\" font-size=\"14.00\" text-anchor=\"middle\" x=\"296\" y=\"-22.8\">samples = 88</text>\n<text fill=\"#000000\" font-family=\"Times,serif\" font-size=\"14.00\" text-anchor=\"middle\" x=\"296\" y=\"-7.8\">value = 15.781</text>\n</g>\n<!-- 4&#45;&gt;9 -->\n<g class=\"edge\" id=\"edge6\">\n<title>4-&gt;9</title>\n<path d=\"M334.1988,-88.9777C328.8242,-80.187 323.0265,-70.7044 317.6115,-61.8477\" fill=\"none\" stroke=\"#000000\"/>\n<polygon fill=\"#000000\" points=\"320.5564,-59.9545 312.354,-53.2485 314.5842,-63.6059 320.5564,-59.9545\" stroke=\"#000000\"/>\n</g>\n<!-- 10 -->\n<g class=\"node\" id=\"node8\">\n<title>10</title>\n<polygon fill=\"#ffffff\" points=\"470,-53 366,-53 366,0 470,0 470,-53\" stroke=\"#000000\"/>\n<text fill=\"#000000\" font-family=\"Times,serif\" font-size=\"14.00\" text-anchor=\"middle\" x=\"418\" y=\"-37.8\">mse = 13.745</text>\n<text fill=\"#000000\" font-family=\"Times,serif\" font-size=\"14.00\" text-anchor=\"middle\" x=\"418\" y=\"-22.8\">samples = 37</text>\n<text fill=\"#000000\" font-family=\"Times,serif\" font-size=\"14.00\" text-anchor=\"middle\" x=\"418\" y=\"-7.8\">value = 10.746</text>\n</g>\n<!-- 4&#45;&gt;10 -->\n<g class=\"edge\" id=\"edge7\">\n<title>4-&gt;10</title>\n<path d=\"M377.2114,-88.9777C382.9504,-80.187 389.1412,-70.7044 394.9233,-61.8477\" fill=\"none\" stroke=\"#000000\"/>\n<polygon fill=\"#000000\" points=\"398.0013,-63.5354 400.5373,-53.2485 392.1398,-59.7087 398.0013,-63.5354\" stroke=\"#000000\"/>\n</g>\n<!-- 5 -->\n<g class=\"node\" id=\"node10\">\n<title>5</title>\n<polygon fill=\"#f0b68c\" points=\"640,-157 534,-157 534,-89 640,-89 640,-157\" stroke=\"#000000\"/>\n<text fill=\"#000000\" font-family=\"Times,serif\" font-size=\"14.00\" text-anchor=\"middle\" x=\"587\" y=\"-141.8\">NOX &lt;= 0.659</text>\n<text fill=\"#000000\" font-family=\"Times,serif\" font-size=\"14.00\" text-anchor=\"middle\" x=\"587\" y=\"-126.8\">mse = 33.493</text>\n<text fill=\"#000000\" font-family=\"Times,serif\" font-size=\"14.00\" text-anchor=\"middle\" x=\"587\" y=\"-111.8\">samples = 45</text>\n<text fill=\"#000000\" font-family=\"Times,serif\" font-size=\"14.00\" text-anchor=\"middle\" x=\"587\" y=\"-96.8\">value = 31.642</text>\n</g>\n<!-- 2&#45;&gt;5 -->\n<g class=\"edge\" id=\"edge9\">\n<title>2-&gt;5</title>\n<path d=\"M587,-192.9465C587,-184.776 587,-175.9318 587,-167.3697\" fill=\"none\" stroke=\"#000000\"/>\n<polygon fill=\"#000000\" points=\"590.5001,-167.13 587,-157.13 583.5001,-167.13 590.5001,-167.13\" stroke=\"#000000\"/>\n</g>\n<!-- 6 -->\n<g class=\"node\" id=\"node13\">\n<title>6</title>\n<polygon fill=\"#e68641\" points=\"833.5,-157 706.5,-157 706.5,-89 833.5,-89 833.5,-157\" stroke=\"#000000\"/>\n<text fill=\"#000000\" font-family=\"Times,serif\" font-size=\"14.00\" text-anchor=\"middle\" x=\"770\" y=\"-141.8\">PTRATIO &lt;= 17.6</text>\n<text fill=\"#000000\" font-family=\"Times,serif\" font-size=\"14.00\" text-anchor=\"middle\" x=\"770\" y=\"-126.8\">mse = 21.443</text>\n<text fill=\"#000000\" font-family=\"Times,serif\" font-size=\"14.00\" text-anchor=\"middle\" x=\"770\" y=\"-111.8\">samples = 22</text>\n<text fill=\"#000000\" font-family=\"Times,serif\" font-size=\"14.00\" text-anchor=\"middle\" x=\"770\" y=\"-96.8\">value = 45.423</text>\n</g>\n<!-- 2&#45;&gt;6 -->\n<g class=\"edge\" id=\"edge12\">\n<title>2-&gt;6</title>\n<path d=\"M639.4405,-197.1978C658.669,-186.2701 680.7308,-173.7322 701.1795,-162.1111\" fill=\"none\" stroke=\"#000000\"/>\n<polygon fill=\"#000000\" points=\"703.1726,-165.0042 710.1373,-157.0203 699.7139,-158.9183 703.1726,-165.0042\" stroke=\"#000000\"/>\n</g>\n<!-- 11 -->\n<g class=\"node\" id=\"node11\">\n<title>11</title>\n<polygon fill=\"#efb488\" points=\"592,-53 488,-53 488,0 592,0 592,-53\" stroke=\"#000000\"/>\n<text fill=\"#000000\" font-family=\"Times,serif\" font-size=\"14.00\" text-anchor=\"middle\" x=\"540\" y=\"-37.8\">mse = 23.651</text>\n<text fill=\"#000000\" font-family=\"Times,serif\" font-size=\"14.00\" text-anchor=\"middle\" x=\"540\" y=\"-22.8\">samples = 43</text>\n<text fill=\"#000000\" font-family=\"Times,serif\" font-size=\"14.00\" text-anchor=\"middle\" x=\"540\" y=\"-7.8\">value = 32.351</text>\n</g>\n<!-- 5&#45;&gt;11 -->\n<g class=\"edge\" id=\"edge10\">\n<title>5-&gt;11</title>\n<path d=\"M570.4296,-88.9777C566.2373,-80.3702 561.7219,-71.0992 557.486,-62.402\" fill=\"none\" stroke=\"#000000\"/>\n<polygon fill=\"#000000\" points=\"560.5532,-60.7063 553.0278,-53.2485 554.2599,-63.7714 560.5532,-60.7063\" stroke=\"#000000\"/>\n</g>\n<!-- 12 -->\n<g class=\"node\" id=\"node12\">\n<title>12</title>\n<polygon fill=\"#fbebe0\" points=\"699.5,-53 610.5,-53 610.5,0 699.5,0 699.5,-53\" stroke=\"#000000\"/>\n<text fill=\"#000000\" font-family=\"Times,serif\" font-size=\"14.00\" text-anchor=\"middle\" x=\"655\" y=\"-37.8\">mse = 1.96</text>\n<text fill=\"#000000\" font-family=\"Times,serif\" font-size=\"14.00\" text-anchor=\"middle\" x=\"655\" y=\"-22.8\">samples = 2</text>\n<text fill=\"#000000\" font-family=\"Times,serif\" font-size=\"14.00\" text-anchor=\"middle\" x=\"655\" y=\"-7.8\">value = 16.4</text>\n</g>\n<!-- 5&#45;&gt;12 -->\n<g class=\"edge\" id=\"edge11\">\n<title>5-&gt;12</title>\n<path d=\"M610.9743,-88.9777C617.2333,-80.0954 623.9901,-70.5067 630.2867,-61.5711\" fill=\"none\" stroke=\"#000000\"/>\n<polygon fill=\"#000000\" points=\"633.2521,-63.4389 636.1513,-53.2485 627.5301,-59.4068 633.2521,-63.4389\" stroke=\"#000000\"/>\n</g>\n<!-- 13 -->\n<g class=\"node\" id=\"node14\">\n<title>13</title>\n<polygon fill=\"#e58139\" points=\"822,-53 718,-53 718,0 822,0 822,-53\" stroke=\"#000000\"/>\n<text fill=\"#000000\" font-family=\"Times,serif\" font-size=\"14.00\" text-anchor=\"middle\" x=\"770\" y=\"-37.8\">mse = 13.794</text>\n<text fill=\"#000000\" font-family=\"Times,serif\" font-size=\"14.00\" text-anchor=\"middle\" x=\"770\" y=\"-22.8\">samples = 18</text>\n<text fill=\"#000000\" font-family=\"Times,serif\" font-size=\"14.00\" text-anchor=\"middle\" x=\"770\" y=\"-7.8\">value = 46.822</text>\n</g>\n<!-- 6&#45;&gt;13 -->\n<g class=\"edge\" id=\"edge13\">\n<title>6-&gt;13</title>\n<path d=\"M770,-88.9777C770,-80.7364 770,-71.887 770,-63.5153\" fill=\"none\" stroke=\"#000000\"/>\n<polygon fill=\"#000000\" points=\"773.5001,-63.2484 770,-53.2485 766.5001,-63.2485 773.5001,-63.2484\" stroke=\"#000000\"/>\n</g>\n<!-- 14 -->\n<g class=\"node\" id=\"node15\">\n<title>14</title>\n<polygon fill=\"#eb9c63\" points=\"944,-53 840,-53 840,0 944,0 944,-53\" stroke=\"#000000\"/>\n<text fill=\"#000000\" font-family=\"Times,serif\" font-size=\"14.00\" text-anchor=\"middle\" x=\"892\" y=\"-37.8\">mse = 7.387</text>\n<text fill=\"#000000\" font-family=\"Times,serif\" font-size=\"14.00\" text-anchor=\"middle\" x=\"892\" y=\"-22.8\">samples = 4</text>\n<text fill=\"#000000\" font-family=\"Times,serif\" font-size=\"14.00\" text-anchor=\"middle\" x=\"892\" y=\"-7.8\">value = 39.125</text>\n</g>\n<!-- 6&#45;&gt;14 -->\n<g class=\"edge\" id=\"edge14\">\n<title>6-&gt;14</title>\n<path d=\"M813.0126,-88.9777C825.0524,-79.4545 838.1188,-69.1191 850.0935,-59.6473\" fill=\"none\" stroke=\"#000000\"/>\n<polygon fill=\"#000000\" points=\"852.5115,-62.1973 858.1833,-53.2485 848.1689,-56.7072 852.5115,-62.1973\" stroke=\"#000000\"/>\n</g>\n</g>\n</svg>"
          },
          "metadata": {
            "tags": []
          }
        }
      ]
    },
    {
      "cell_type": "markdown",
      "metadata": {
        "id": "lQXpX7iuJOzh"
      },
      "source": [
        "##Increase Depth of regressor"
      ]
    },
    {
      "cell_type": "code",
      "metadata": {
        "colab": {
          "base_uri": "https://localhost:8080/"
        },
        "id": "3uw3H4Bo_9ql",
        "outputId": "be7add27-fff0-425d-ed91-366b5eae79a8"
      },
      "source": [
        "# create a regressor object\n",
        "regressor = DecisionTreeRegressor(max_depth=5,criterion='mse', max_leaf_nodes=10, random_state=0) \n",
        "  \n",
        "# fit the regressor \n",
        "regressor.fit(x_train, y_train)"
      ],
      "execution_count": null,
      "outputs": [
        {
          "output_type": "execute_result",
          "data": {
            "text/plain": [
              "DecisionTreeRegressor(ccp_alpha=0.0, criterion='mse', max_depth=5,\n",
              "                      max_features=None, max_leaf_nodes=10,\n",
              "                      min_impurity_decrease=0.0, min_impurity_split=None,\n",
              "                      min_samples_leaf=1, min_samples_split=2,\n",
              "                      min_weight_fraction_leaf=0.0, presort='deprecated',\n",
              "                      random_state=0, splitter='best')"
            ]
          },
          "metadata": {
            "tags": []
          },
          "execution_count": 49
        }
      ]
    },
    {
      "cell_type": "code",
      "metadata": {
        "id": "vMUQ-ZLx_8Af"
      },
      "source": [
        "y_pred = regressor.predict(x_test)"
      ],
      "execution_count": null,
      "outputs": []
    },
    {
      "cell_type": "code",
      "metadata": {
        "id": "Wrnwv1I6JhOB"
      },
      "source": [
        "\n",
        "y_pred_train=regressor.predict(x_train)"
      ],
      "execution_count": null,
      "outputs": []
    },
    {
      "cell_type": "code",
      "metadata": {
        "colab": {
          "base_uri": "https://localhost:8080/"
        },
        "id": "-lkKoGK2Jlgq",
        "outputId": "7140344d-0fbe-4316-887b-d60525b911e4"
      },
      "source": [
        "test_r2=r2_score(y_test,y_pred)\n",
        "train_r2=r2_score(y_train,y_pred_train)\n",
        "test_r2,train_r2"
      ],
      "execution_count": null,
      "outputs": [
        {
          "output_type": "execute_result",
          "data": {
            "text/plain": [
              "(0.7359517946451384, 0.8683742182477971)"
            ]
          },
          "metadata": {
            "tags": []
          },
          "execution_count": 52
        }
      ]
    },
    {
      "cell_type": "code",
      "metadata": {
        "id": "1-8ZUVr7Jo-4"
      },
      "source": [
        "p=x_train.shape[1]\n",
        "n=x_train.shape[0]"
      ],
      "execution_count": null,
      "outputs": []
    },
    {
      "cell_type": "code",
      "metadata": {
        "colab": {
          "base_uri": "https://localhost:8080/"
        },
        "id": "dWxPTWGcJtt7",
        "outputId": "dc6dbc26-c77c-4f87-c9b6-b094b60c9596"
      },
      "source": [
        "adjusted_r2=1-(1-train_r2)*(n-1)/(n-p-1)\n",
        "adjusted_r2"
      ],
      "execution_count": null,
      "outputs": [
        {
          "output_type": "execute_result",
          "data": {
            "text/plain": [
              "0.8639866921893904"
            ]
          },
          "metadata": {
            "tags": []
          },
          "execution_count": 55
        }
      ]
    },
    {
      "cell_type": "code",
      "metadata": {
        "colab": {
          "base_uri": "https://localhost:8080/",
          "height": 656
        },
        "id": "ZMiXGwIGJxyJ",
        "outputId": "290e3dd6-4048-43eb-ac39-9b9bd2fd206c"
      },
      "source": [
        "graph = Source(tree.export_graphviz(regressor, out_file=None\n",
        "   , feature_names=x_train.columns\n",
        "   , filled = True))\n",
        "display(SVG(graph.pipe(format='svg')))"
      ],
      "execution_count": null,
      "outputs": [
        {
          "output_type": "display_data",
          "data": {
            "text/plain": [
              "<IPython.core.display.SVG object>"
            ],
            "image/svg+xml": "<svg height=\"477pt\" viewBox=\"0.00 0.00 820.50 477.00\" width=\"821pt\" xmlns=\"http://www.w3.org/2000/svg\" xmlns:xlink=\"http://www.w3.org/1999/xlink\">\n<g class=\"graph\" id=\"graph0\" transform=\"scale(1 1) rotate(0) translate(4 473)\">\n<title>Tree</title>\n<polygon fill=\"#ffffff\" points=\"-4,4 -4,-473 816.5,-473 816.5,4 -4,4\" stroke=\"transparent\"/>\n<!-- 0 -->\n<g class=\"node\" id=\"node1\">\n<title>0</title>\n<polygon fill=\"#f7dac4\" points=\"626.5,-469 522.5,-469 522.5,-401 626.5,-401 626.5,-469\" stroke=\"#000000\"/>\n<text fill=\"#000000\" font-family=\"Times,serif\" font-size=\"14.00\" text-anchor=\"middle\" x=\"574.5\" y=\"-453.8\">RM &lt;= 6.838</text>\n<text fill=\"#000000\" font-family=\"Times,serif\" font-size=\"14.00\" text-anchor=\"middle\" x=\"574.5\" y=\"-438.8\">mse = 81.15</text>\n<text fill=\"#000000\" font-family=\"Times,serif\" font-size=\"14.00\" text-anchor=\"middle\" x=\"574.5\" y=\"-423.8\">samples = 404</text>\n<text fill=\"#000000\" font-family=\"Times,serif\" font-size=\"14.00\" text-anchor=\"middle\" x=\"574.5\" y=\"-408.8\">value = 22.361</text>\n</g>\n<!-- 1 -->\n<g class=\"node\" id=\"node2\">\n<title>1</title>\n<polygon fill=\"#f9e3d2\" points=\"507.5,-365 397.5,-365 397.5,-297 507.5,-297 507.5,-365\" stroke=\"#000000\"/>\n<text fill=\"#000000\" font-family=\"Times,serif\" font-size=\"14.00\" text-anchor=\"middle\" x=\"452.5\" y=\"-349.8\">LSTAT &lt;= 15.0</text>\n<text fill=\"#000000\" font-family=\"Times,serif\" font-size=\"14.00\" text-anchor=\"middle\" x=\"452.5\" y=\"-334.8\">mse = 37.658</text>\n<text fill=\"#000000\" font-family=\"Times,serif\" font-size=\"14.00\" text-anchor=\"middle\" x=\"452.5\" y=\"-319.8\">samples = 337</text>\n<text fill=\"#000000\" font-family=\"Times,serif\" font-size=\"14.00\" text-anchor=\"middle\" x=\"452.5\" y=\"-304.8\">value = 19.617</text>\n</g>\n<!-- 0&#45;&gt;1 -->\n<g class=\"edge\" id=\"edge1\">\n<title>0-&gt;1</title>\n<path d=\"M534.5526,-400.9465C523.5988,-391.6088 511.6127,-381.3911 500.268,-371.7203\" fill=\"none\" stroke=\"#000000\"/>\n<polygon fill=\"#000000\" points=\"502.4179,-368.9538 492.5371,-365.13 497.8767,-374.2809 502.4179,-368.9538\" stroke=\"#000000\"/>\n<text fill=\"#000000\" font-family=\"Times,serif\" font-size=\"14.00\" text-anchor=\"middle\" x=\"494.522\" y=\"-386.3511\">True</text>\n</g>\n<!-- 2 -->\n<g class=\"node\" id=\"node13\">\n<title>2</title>\n<polygon fill=\"#eead7f\" points=\"689.5,-365 585.5,-365 585.5,-297 689.5,-297 689.5,-365\" stroke=\"#000000\"/>\n<text fill=\"#000000\" font-family=\"Times,serif\" font-size=\"14.00\" text-anchor=\"middle\" x=\"637.5\" y=\"-349.8\">RM &lt;= 7.443</text>\n<text fill=\"#000000\" font-family=\"Times,serif\" font-size=\"14.00\" text-anchor=\"middle\" x=\"637.5\" y=\"-334.8\">mse = 71.417</text>\n<text fill=\"#000000\" font-family=\"Times,serif\" font-size=\"14.00\" text-anchor=\"middle\" x=\"637.5\" y=\"-319.8\">samples = 67</text>\n<text fill=\"#000000\" font-family=\"Times,serif\" font-size=\"14.00\" text-anchor=\"middle\" x=\"637.5\" y=\"-304.8\">value = 36.167</text>\n</g>\n<!-- 0&#45;&gt;2 -->\n<g class=\"edge\" id=\"edge12\">\n<title>0-&gt;2</title>\n<path d=\"M595.1286,-400.9465C600.3499,-392.3271 606.0255,-382.9579 611.4755,-373.9611\" fill=\"none\" stroke=\"#000000\"/>\n<polygon fill=\"#000000\" points=\"614.6374,-375.4965 616.8251,-365.13 608.6503,-371.8697 614.6374,-375.4965\" stroke=\"#000000\"/>\n<text fill=\"#000000\" font-family=\"Times,serif\" font-size=\"14.00\" text-anchor=\"middle\" x=\"622.7858\" y=\"-385.709\">False</text>\n</g>\n<!-- 3 -->\n<g class=\"node\" id=\"node3\">\n<title>3</title>\n<polygon fill=\"#f7d8c2\" points=\"323.5,-261 219.5,-261 219.5,-193 323.5,-193 323.5,-261\" stroke=\"#000000\"/>\n<text fill=\"#000000\" font-family=\"Times,serif\" font-size=\"14.00\" text-anchor=\"middle\" x=\"271.5\" y=\"-245.8\">DIS &lt;= 1.373</text>\n<text fill=\"#000000\" font-family=\"Times,serif\" font-size=\"14.00\" text-anchor=\"middle\" x=\"271.5\" y=\"-230.8\">mse = 23.738</text>\n<text fill=\"#000000\" font-family=\"Times,serif\" font-size=\"14.00\" text-anchor=\"middle\" x=\"271.5\" y=\"-215.8\">samples = 212</text>\n<text fill=\"#000000\" font-family=\"Times,serif\" font-size=\"14.00\" text-anchor=\"middle\" x=\"271.5\" y=\"-200.8\">value = 22.757</text>\n</g>\n<!-- 1&#45;&gt;3 -->\n<g class=\"edge\" id=\"edge2\">\n<title>1-&gt;3</title>\n<path d=\"M397.2105,-299.2315C376.7429,-287.4711 353.4286,-274.075 332.4832,-262.04\" fill=\"none\" stroke=\"#000000\"/>\n<polygon fill=\"#000000\" points=\"334.0811,-258.9216 323.6668,-256.9743 330.5937,-264.991 334.0811,-258.9216\" stroke=\"#000000\"/>\n</g>\n<!-- 4 -->\n<g class=\"node\" id=\"node10\">\n<title>4</title>\n<polygon fill=\"#fdf4ed\" points=\"504.5,-261 400.5,-261 400.5,-193 504.5,-193 504.5,-261\" stroke=\"#000000\"/>\n<text fill=\"#000000\" font-family=\"Times,serif\" font-size=\"14.00\" text-anchor=\"middle\" x=\"452.5\" y=\"-245.8\">CRIM &lt;= 9.87</text>\n<text fill=\"#000000\" font-family=\"Times,serif\" font-size=\"14.00\" text-anchor=\"middle\" x=\"452.5\" y=\"-230.8\">mse = 16.171</text>\n<text fill=\"#000000\" font-family=\"Times,serif\" font-size=\"14.00\" text-anchor=\"middle\" x=\"452.5\" y=\"-215.8\">samples = 125</text>\n<text fill=\"#000000\" font-family=\"Times,serif\" font-size=\"14.00\" text-anchor=\"middle\" x=\"452.5\" y=\"-200.8\">value = 14.29</text>\n</g>\n<!-- 1&#45;&gt;4 -->\n<g class=\"edge\" id=\"edge9\">\n<title>1-&gt;4</title>\n<path d=\"M452.5,-296.9465C452.5,-288.776 452.5,-279.9318 452.5,-271.3697\" fill=\"none\" stroke=\"#000000\"/>\n<polygon fill=\"#000000\" points=\"456.0001,-271.13 452.5,-261.13 449.0001,-271.13 456.0001,-271.13\" stroke=\"#000000\"/>\n</g>\n<!-- 7 -->\n<g class=\"node\" id=\"node4\">\n<title>7</title>\n<polygon fill=\"#e99355\" points=\"201.5,-157 97.5,-157 97.5,-89 201.5,-89 201.5,-157\" stroke=\"#000000\"/>\n<text fill=\"#000000\" font-family=\"Times,serif\" font-size=\"14.00\" text-anchor=\"middle\" x=\"149.5\" y=\"-141.8\">B &lt;= 339.985</text>\n<text fill=\"#000000\" font-family=\"Times,serif\" font-size=\"14.00\" text-anchor=\"middle\" x=\"149.5\" y=\"-126.8\">mse = 91.577</text>\n<text fill=\"#000000\" font-family=\"Times,serif\" font-size=\"14.00\" text-anchor=\"middle\" x=\"149.5\" y=\"-111.8\">samples = 4</text>\n<text fill=\"#000000\" font-family=\"Times,serif\" font-size=\"14.00\" text-anchor=\"middle\" x=\"149.5\" y=\"-96.8\">value = 44.475</text>\n</g>\n<!-- 3&#45;&gt;7 -->\n<g class=\"edge\" id=\"edge3\">\n<title>3-&gt;7</title>\n<path d=\"M231.5526,-192.9465C220.5988,-183.6088 208.6127,-173.3911 197.268,-163.7203\" fill=\"none\" stroke=\"#000000\"/>\n<polygon fill=\"#000000\" points=\"199.4179,-160.9538 189.5371,-157.13 194.8767,-166.2809 199.4179,-160.9538\" stroke=\"#000000\"/>\n</g>\n<!-- 8 -->\n<g class=\"node\" id=\"node7\">\n<title>8</title>\n<polygon fill=\"#f7dac5\" points=\"323.5,-157 219.5,-157 219.5,-89 323.5,-89 323.5,-157\" stroke=\"#000000\"/>\n<text fill=\"#000000\" font-family=\"Times,serif\" font-size=\"14.00\" text-anchor=\"middle\" x=\"271.5\" y=\"-141.8\">RM &lt;= 6.527</text>\n<text fill=\"#000000\" font-family=\"Times,serif\" font-size=\"14.00\" text-anchor=\"middle\" x=\"271.5\" y=\"-126.8\">mse = 13.188</text>\n<text fill=\"#000000\" font-family=\"Times,serif\" font-size=\"14.00\" text-anchor=\"middle\" x=\"271.5\" y=\"-111.8\">samples = 208</text>\n<text fill=\"#000000\" font-family=\"Times,serif\" font-size=\"14.00\" text-anchor=\"middle\" x=\"271.5\" y=\"-96.8\">value = 22.339</text>\n</g>\n<!-- 3&#45;&gt;8 -->\n<g class=\"edge\" id=\"edge6\">\n<title>3-&gt;8</title>\n<path d=\"M271.5,-192.9465C271.5,-184.776 271.5,-175.9318 271.5,-167.3697\" fill=\"none\" stroke=\"#000000\"/>\n<polygon fill=\"#000000\" points=\"275.0001,-167.13 271.5,-157.13 268.0001,-167.13 275.0001,-167.13\" stroke=\"#000000\"/>\n</g>\n<!-- 17 -->\n<g class=\"node\" id=\"node5\">\n<title>17</title>\n<polygon fill=\"#f4c8a8\" points=\"89,-53 0,-53 0,0 89,0 89,-53\" stroke=\"#000000\"/>\n<text fill=\"#000000\" font-family=\"Times,serif\" font-size=\"14.00\" text-anchor=\"middle\" x=\"44.5\" y=\"-37.8\">mse = 0.0</text>\n<text fill=\"#000000\" font-family=\"Times,serif\" font-size=\"14.00\" text-anchor=\"middle\" x=\"44.5\" y=\"-22.8\">samples = 1</text>\n<text fill=\"#000000\" font-family=\"Times,serif\" font-size=\"14.00\" text-anchor=\"middle\" x=\"44.5\" y=\"-7.8\">value = 27.9</text>\n</g>\n<!-- 7&#45;&gt;17 -->\n<g class=\"edge\" id=\"edge4\">\n<title>7-&gt;17</title>\n<path d=\"M112.4809,-88.9777C102.3181,-79.6376 91.3053,-69.5163 81.1626,-60.1947\" fill=\"none\" stroke=\"#000000\"/>\n<polygon fill=\"#000000\" points=\"83.3358,-57.4383 73.6046,-53.2485 78.599,-62.5923 83.3358,-57.4383\" stroke=\"#000000\"/>\n</g>\n<!-- 18 -->\n<g class=\"node\" id=\"node6\">\n<title>18</title>\n<polygon fill=\"#e58139\" points=\"196,-53 107,-53 107,0 196,0 196,-53\" stroke=\"#000000\"/>\n<text fill=\"#000000\" font-family=\"Times,serif\" font-size=\"14.00\" text-anchor=\"middle\" x=\"151.5\" y=\"-37.8\">mse = 0.0</text>\n<text fill=\"#000000\" font-family=\"Times,serif\" font-size=\"14.00\" text-anchor=\"middle\" x=\"151.5\" y=\"-22.8\">samples = 3</text>\n<text fill=\"#000000\" font-family=\"Times,serif\" font-size=\"14.00\" text-anchor=\"middle\" x=\"151.5\" y=\"-7.8\">value = 50.0</text>\n</g>\n<!-- 7&#45;&gt;18 -->\n<g class=\"edge\" id=\"edge5\">\n<title>7-&gt;18</title>\n<path d=\"M150.2051,-88.9777C150.3759,-80.7364 150.5593,-71.887 150.7328,-63.5153\" fill=\"none\" stroke=\"#000000\"/>\n<polygon fill=\"#000000\" points=\"154.2376,-63.3189 150.9456,-53.2485 147.2391,-63.1738 154.2376,-63.3189\" stroke=\"#000000\"/>\n</g>\n<!-- 9 -->\n<g class=\"node\" id=\"node8\">\n<title>9</title>\n<polygon fill=\"#f8ddc9\" points=\"321.5,-53 217.5,-53 217.5,0 321.5,0 321.5,-53\" stroke=\"#000000\"/>\n<text fill=\"#000000\" font-family=\"Times,serif\" font-size=\"14.00\" text-anchor=\"middle\" x=\"269.5\" y=\"-37.8\">mse = 8.585</text>\n<text fill=\"#000000\" font-family=\"Times,serif\" font-size=\"14.00\" text-anchor=\"middle\" x=\"269.5\" y=\"-22.8\">samples = 173</text>\n<text fill=\"#000000\" font-family=\"Times,serif\" font-size=\"14.00\" text-anchor=\"middle\" x=\"269.5\" y=\"-7.8\">value = 21.398</text>\n</g>\n<!-- 8&#45;&gt;9 -->\n<g class=\"edge\" id=\"edge7\">\n<title>8-&gt;9</title>\n<path d=\"M270.7949,-88.9777C270.6241,-80.7364 270.4407,-71.887 270.2672,-63.5153\" fill=\"none\" stroke=\"#000000\"/>\n<polygon fill=\"#000000\" points=\"273.7609,-63.1738 270.0544,-53.2485 266.7624,-63.3189 273.7609,-63.1738\" stroke=\"#000000\"/>\n</g>\n<!-- 10 -->\n<g class=\"node\" id=\"node9\">\n<title>10</title>\n<polygon fill=\"#f4cbad\" points=\"443.5,-53 339.5,-53 339.5,0 443.5,0 443.5,-53\" stroke=\"#000000\"/>\n<text fill=\"#000000\" font-family=\"Times,serif\" font-size=\"14.00\" text-anchor=\"middle\" x=\"391.5\" y=\"-37.8\">mse = 9.924</text>\n<text fill=\"#000000\" font-family=\"Times,serif\" font-size=\"14.00\" text-anchor=\"middle\" x=\"391.5\" y=\"-22.8\">samples = 35</text>\n<text fill=\"#000000\" font-family=\"Times,serif\" font-size=\"14.00\" text-anchor=\"middle\" x=\"391.5\" y=\"-7.8\">value = 26.991</text>\n</g>\n<!-- 8&#45;&gt;10 -->\n<g class=\"edge\" id=\"edge8\">\n<title>8-&gt;10</title>\n<path d=\"M313.8075,-88.9777C325.6499,-79.4545 338.5021,-69.1191 350.2805,-59.6473\" fill=\"none\" stroke=\"#000000\"/>\n<polygon fill=\"#000000\" points=\"352.6382,-62.2427 358.2376,-53.2485 348.2514,-56.7877 352.6382,-62.2427\" stroke=\"#000000\"/>\n</g>\n<!-- 11 -->\n<g class=\"node\" id=\"node11\">\n<title>11</title>\n<polygon fill=\"#fcefe6\" points=\"445.5,-149.5 341.5,-149.5 341.5,-96.5 445.5,-96.5 445.5,-149.5\" stroke=\"#000000\"/>\n<text fill=\"#000000\" font-family=\"Times,serif\" font-size=\"14.00\" text-anchor=\"middle\" x=\"393.5\" y=\"-134.3\">mse = 9.688</text>\n<text fill=\"#000000\" font-family=\"Times,serif\" font-size=\"14.00\" text-anchor=\"middle\" x=\"393.5\" y=\"-119.3\">samples = 88</text>\n<text fill=\"#000000\" font-family=\"Times,serif\" font-size=\"14.00\" text-anchor=\"middle\" x=\"393.5\" y=\"-104.3\">value = 15.781</text>\n</g>\n<!-- 4&#45;&gt;11 -->\n<g class=\"edge\" id=\"edge10\">\n<title>4-&gt;11</title>\n<path d=\"M433.1812,-192.9465C426.9324,-181.9316 419.9888,-169.6922 413.6793,-158.5703\" fill=\"none\" stroke=\"#000000\"/>\n<polygon fill=\"#000000\" points=\"416.5362,-156.513 408.5576,-149.5422 410.4477,-159.967 416.5362,-156.513\" stroke=\"#000000\"/>\n</g>\n<!-- 12 -->\n<g class=\"node\" id=\"node12\">\n<title>12</title>\n<polygon fill=\"#ffffff\" points=\"567.5,-149.5 463.5,-149.5 463.5,-96.5 567.5,-96.5 567.5,-149.5\" stroke=\"#000000\"/>\n<text fill=\"#000000\" font-family=\"Times,serif\" font-size=\"14.00\" text-anchor=\"middle\" x=\"515.5\" y=\"-134.3\">mse = 13.745</text>\n<text fill=\"#000000\" font-family=\"Times,serif\" font-size=\"14.00\" text-anchor=\"middle\" x=\"515.5\" y=\"-119.3\">samples = 37</text>\n<text fill=\"#000000\" font-family=\"Times,serif\" font-size=\"14.00\" text-anchor=\"middle\" x=\"515.5\" y=\"-104.3\">value = 10.746</text>\n</g>\n<!-- 4&#45;&gt;12 -->\n<g class=\"edge\" id=\"edge11\">\n<title>4-&gt;12</title>\n<path d=\"M473.1286,-192.9465C479.8678,-181.8215 487.3637,-169.4473 494.1545,-158.237\" fill=\"none\" stroke=\"#000000\"/>\n<polygon fill=\"#000000\" points=\"497.2339,-159.9087 499.4216,-149.5422 491.2467,-156.2818 497.2339,-159.9087\" stroke=\"#000000\"/>\n</g>\n<!-- 5 -->\n<g class=\"node\" id=\"node14\">\n<title>5</title>\n<polygon fill=\"#f1bc96\" points=\"690.5,-261 584.5,-261 584.5,-193 690.5,-193 690.5,-261\" stroke=\"#000000\"/>\n<text fill=\"#000000\" font-family=\"Times,serif\" font-size=\"14.00\" text-anchor=\"middle\" x=\"637.5\" y=\"-245.8\">NOX &lt;= 0.659</text>\n<text fill=\"#000000\" font-family=\"Times,serif\" font-size=\"14.00\" text-anchor=\"middle\" x=\"637.5\" y=\"-230.8\">mse = 33.493</text>\n<text fill=\"#000000\" font-family=\"Times,serif\" font-size=\"14.00\" text-anchor=\"middle\" x=\"637.5\" y=\"-215.8\">samples = 45</text>\n<text fill=\"#000000\" font-family=\"Times,serif\" font-size=\"14.00\" text-anchor=\"middle\" x=\"637.5\" y=\"-200.8\">value = 31.642</text>\n</g>\n<!-- 2&#45;&gt;5 -->\n<g class=\"edge\" id=\"edge13\">\n<title>2-&gt;5</title>\n<path d=\"M637.5,-296.9465C637.5,-288.776 637.5,-279.9318 637.5,-271.3697\" fill=\"none\" stroke=\"#000000\"/>\n<polygon fill=\"#000000\" points=\"641.0001,-271.13 637.5,-261.13 634.0001,-271.13 641.0001,-271.13\" stroke=\"#000000\"/>\n</g>\n<!-- 6 -->\n<g class=\"node\" id=\"node19\">\n<title>6</title>\n<polygon fill=\"#e89050\" points=\"812.5,-253.5 708.5,-253.5 708.5,-200.5 812.5,-200.5 812.5,-253.5\" stroke=\"#000000\"/>\n<text fill=\"#000000\" font-family=\"Times,serif\" font-size=\"14.00\" text-anchor=\"middle\" x=\"760.5\" y=\"-238.3\">mse = 21.443</text>\n<text fill=\"#000000\" font-family=\"Times,serif\" font-size=\"14.00\" text-anchor=\"middle\" x=\"760.5\" y=\"-223.3\">samples = 22</text>\n<text fill=\"#000000\" font-family=\"Times,serif\" font-size=\"14.00\" text-anchor=\"middle\" x=\"760.5\" y=\"-208.3\">value = 45.423</text>\n</g>\n<!-- 2&#45;&gt;6 -->\n<g class=\"edge\" id=\"edge18\">\n<title>2-&gt;6</title>\n<path d=\"M677.7748,-296.9465C691.7139,-285.1606 707.3112,-271.9726 721.1732,-260.2519\" fill=\"none\" stroke=\"#000000\"/>\n<polygon fill=\"#000000\" points=\"723.7324,-262.6715 729.1088,-253.5422 719.2127,-257.3262 723.7324,-262.6715\" stroke=\"#000000\"/>\n</g>\n<!-- 13 -->\n<g class=\"node\" id=\"node15\">\n<title>13</title>\n<polygon fill=\"#f1ba92\" points=\"689.5,-157 585.5,-157 585.5,-89 689.5,-89 689.5,-157\" stroke=\"#000000\"/>\n<text fill=\"#000000\" font-family=\"Times,serif\" font-size=\"14.00\" text-anchor=\"middle\" x=\"637.5\" y=\"-141.8\">DIS &lt;= 1.944</text>\n<text fill=\"#000000\" font-family=\"Times,serif\" font-size=\"14.00\" text-anchor=\"middle\" x=\"637.5\" y=\"-126.8\">mse = 23.651</text>\n<text fill=\"#000000\" font-family=\"Times,serif\" font-size=\"14.00\" text-anchor=\"middle\" x=\"637.5\" y=\"-111.8\">samples = 43</text>\n<text fill=\"#000000\" font-family=\"Times,serif\" font-size=\"14.00\" text-anchor=\"middle\" x=\"637.5\" y=\"-96.8\">value = 32.351</text>\n</g>\n<!-- 5&#45;&gt;13 -->\n<g class=\"edge\" id=\"edge14\">\n<title>5-&gt;13</title>\n<path d=\"M637.5,-192.9465C637.5,-184.776 637.5,-175.9318 637.5,-167.3697\" fill=\"none\" stroke=\"#000000\"/>\n<polygon fill=\"#000000\" points=\"641.0001,-167.13 637.5,-157.13 634.0001,-167.13 641.0001,-167.13\" stroke=\"#000000\"/>\n</g>\n<!-- 14 -->\n<g class=\"node\" id=\"node18\">\n<title>14</title>\n<polygon fill=\"#fbede2\" points=\"797,-149.5 708,-149.5 708,-96.5 797,-96.5 797,-149.5\" stroke=\"#000000\"/>\n<text fill=\"#000000\" font-family=\"Times,serif\" font-size=\"14.00\" text-anchor=\"middle\" x=\"752.5\" y=\"-134.3\">mse = 1.96</text>\n<text fill=\"#000000\" font-family=\"Times,serif\" font-size=\"14.00\" text-anchor=\"middle\" x=\"752.5\" y=\"-119.3\">samples = 2</text>\n<text fill=\"#000000\" font-family=\"Times,serif\" font-size=\"14.00\" text-anchor=\"middle\" x=\"752.5\" y=\"-104.3\">value = 16.4</text>\n</g>\n<!-- 5&#45;&gt;14 -->\n<g class=\"edge\" id=\"edge17\">\n<title>5-&gt;14</title>\n<path d=\"M675.1553,-192.9465C688.1878,-181.1606 702.7706,-167.9726 715.7311,-156.2519\" fill=\"none\" stroke=\"#000000\"/>\n<polygon fill=\"#000000\" points=\"718.0812,-158.8456 723.1505,-149.5422 713.386,-153.6537 718.0812,-158.8456\" stroke=\"#000000\"/>\n</g>\n<!-- 15 -->\n<g class=\"node\" id=\"node16\">\n<title>15</title>\n<polygon fill=\"#e88f4f\" points=\"626,-53 529,-53 529,0 626,0 626,-53\" stroke=\"#000000\"/>\n<text fill=\"#000000\" font-family=\"Times,serif\" font-size=\"14.00\" text-anchor=\"middle\" x=\"577.5\" y=\"-37.8\">mse = 18.923</text>\n<text fill=\"#000000\" font-family=\"Times,serif\" font-size=\"14.00\" text-anchor=\"middle\" x=\"577.5\" y=\"-22.8\">samples = 2</text>\n<text fill=\"#000000\" font-family=\"Times,serif\" font-size=\"14.00\" text-anchor=\"middle\" x=\"577.5\" y=\"-7.8\">value = 45.65</text>\n</g>\n<!-- 13&#45;&gt;15 -->\n<g class=\"edge\" id=\"edge15\">\n<title>13-&gt;15</title>\n<path d=\"M616.3462,-88.9777C610.8805,-80.187 604.9846,-70.7044 599.4778,-61.8477\" fill=\"none\" stroke=\"#000000\"/>\n<polygon fill=\"#000000\" points=\"602.3837,-59.8927 594.1312,-53.2485 596.4391,-63.5889 602.3837,-59.8927\" stroke=\"#000000\"/>\n</g>\n<!-- 16 -->\n<g class=\"node\" id=\"node17\">\n<title>16</title>\n<polygon fill=\"#f1bc95\" points=\"748.5,-53 644.5,-53 644.5,0 748.5,0 748.5,-53\" stroke=\"#000000\"/>\n<text fill=\"#000000\" font-family=\"Times,serif\" font-size=\"14.00\" text-anchor=\"middle\" x=\"696.5\" y=\"-37.8\">mse = 14.834</text>\n<text fill=\"#000000\" font-family=\"Times,serif\" font-size=\"14.00\" text-anchor=\"middle\" x=\"696.5\" y=\"-22.8\">samples = 41</text>\n<text fill=\"#000000\" font-family=\"Times,serif\" font-size=\"14.00\" text-anchor=\"middle\" x=\"696.5\" y=\"-7.8\">value = 31.702</text>\n</g>\n<!-- 13&#45;&gt;16 -->\n<g class=\"edge\" id=\"edge16\">\n<title>13-&gt;16</title>\n<path d=\"M658.3012,-88.9777C663.6758,-80.187 669.4735,-70.7044 674.8885,-61.8477\" fill=\"none\" stroke=\"#000000\"/>\n<polygon fill=\"#000000\" points=\"677.9158,-63.6059 680.146,-53.2485 671.9436,-59.9545 677.9158,-63.6059\" stroke=\"#000000\"/>\n</g>\n</g>\n</svg>"
          },
          "metadata": {
            "tags": []
          }
        }
      ]
    }
  ]
}